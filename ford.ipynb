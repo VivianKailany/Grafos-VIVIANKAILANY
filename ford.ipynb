{
 "cells": [
  {
   "cell_type": "code",
   "execution_count": 1,
   "metadata": {},
   "outputs": [],
   "source": [
    "from collections import deque, defaultdict\n"
   ]
  },
  {
   "cell_type": "code",
   "execution_count": 2,
   "metadata": {},
   "outputs": [],
   "source": [
    "\n",
    "def encontrar_caminho(caminho, capacidade_residual, origem, destino):\n",
    "    # Encontrar um caminho de aumento\n",
    "    visitado = set()\n",
    "    fila = deque([origem])\n",
    "    visitado.add(origem)\n",
    "    caminho[origem] = None\n",
    "    \n",
    "    while fila:\n",
    "        u = fila.popleft()\n",
    "        if u == destino:\n",
    "            break\n",
    "        for v in capacidade_residual[u]:\n",
    "            if v not in visitado and capacidade_residual[u][v] > 0:\n",
    "                fila.append(v)\n",
    "                visitado.add(v)\n",
    "                caminho[v] = u\n",
    "                \n",
    "    return destino in visitado\n",
    "\n",
    "\n"
   ]
  },
  {
   "cell_type": "code",
   "execution_count": 3,
   "metadata": {},
   "outputs": [],
   "source": [
    "def ford_fulkerson(capacidades, origem, destino):\n",
    "    # Inicializar o fluxo e a capacidade residual\n",
    "    fluxo = 0\n",
    "    capacidade_residual = defaultdict(lambda: defaultdict(int))\n",
    "    caminho = {}\n",
    "\n",
    "    # Inicializar capacidade residual com as capacidades do grafo\n",
    "    for u in capacidades:\n",
    "        for v, c in capacidades[u]:\n",
    "            capacidade_residual[u][v] = c\n",
    "    \n",
    "    while encontrar_caminho(caminho, capacidade_residual, origem, destino):\n",
    "        # Encontrar o bottleneck no caminho encontrado\n",
    "        aumento = float('Inf')\n",
    "        v = destino\n",
    "        while v != origem:\n",
    "            u = caminho[v]\n",
    "            aumento = min(aumento, capacidade_residual[u][v])\n",
    "            v = u\n",
    "        \n",
    "        # Atualizar o fluxo e a capacidade residual\n",
    "        v = destino\n",
    "        while v != origem:\n",
    "            u = caminho[v]\n",
    "            capacidade_residual[u][v] -= aumento\n",
    "            capacidade_residual[v][u] += aumento\n",
    "            v = u\n",
    "        \n",
    "        fluxo += aumento\n",
    "    \n",
    "    return fluxo\n"
   ]
  },
  {
   "cell_type": "code",
   "execution_count": 4,
   "metadata": {},
   "outputs": [
    {
     "name": "stdout",
     "output_type": "stream",
     "text": [
      "Fluxo máximo de A para F: 19\n"
     ]
    }
   ],
   "source": [
    "# Exemplo de grafo representado por um dicionário com capacidades\n",
    "grafo = {\n",
    "    'A': [('B', 16), ('C', 13)],\n",
    "    'B': [('C', 10), ('D', 12)],\n",
    "    'C': [('E', 14)],\n",
    "    'D': [('E', 9), ('F', 20)],\n",
    "    'E': [('F', 7)],\n",
    "}\n",
    "\n",
    "# Convertendo o grafo para o formato esperado pelo Ford-Fulkerson\n",
    "capacidades = defaultdict(list)\n",
    "for u in grafo:\n",
    "    for v, c in grafo[u]:\n",
    "        capacidades[u].append((v, c))\n",
    "\n",
    "# Executar o Algoritmo de Ford-Fulkerson\n",
    "origem = 'A'\n",
    "destino = 'F'\n",
    "fluxo_maximo = ford_fulkerson(capacidades, origem, destino)\n",
    "\n",
    "print(f\"Fluxo máximo de {origem} para {destino}: {fluxo_maximo}\")\n"
   ]
  },
  {
   "cell_type": "code",
   "execution_count": 5,
   "metadata": {},
   "outputs": [
    {
     "name": "stdout",
     "output_type": "stream",
     "text": [
      "Fluxo máximo de S para T: 15\n"
     ]
    }
   ],
   "source": [
    "grafo1 = {\n",
    "    'S': [('A', 10), ('B', 5)],\n",
    "    'A': [('B', 15), ('T', 10)],\n",
    "    'B': [('T', 10)],\n",
    "    'T': []\n",
    "}\n",
    "# Convertendo o grafo para o formato esperado pelo Ford-Fulkerson\n",
    "capacidades = defaultdict(list)\n",
    "for u in grafo1:\n",
    "    for v, c in grafo1[u]:\n",
    "        capacidades[u].append((v, c))\n",
    "        \n",
    "# Executar o Algoritmo de Ford-Fulkerson\n",
    "origem = 'S'\n",
    "destino = 'T'\n",
    "fluxo_maximo = ford_fulkerson(capacidades, origem, destino)\n",
    "\n",
    "print(f\"Fluxo máximo de {origem} para {destino}: {fluxo_maximo}\")\n",
    "\n"
   ]
  },
  {
   "cell_type": "code",
   "execution_count": null,
   "metadata": {},
   "outputs": [],
   "source": []
  }
 ],
 "metadata": {
  "kernelspec": {
   "display_name": "Python 3",
   "language": "python",
   "name": "python3"
  },
  "language_info": {
   "codemirror_mode": {
    "name": "ipython",
    "version": 3
   },
   "file_extension": ".py",
   "mimetype": "text/x-python",
   "name": "python",
   "nbconvert_exporter": "python",
   "pygments_lexer": "ipython3",
   "version": "3.11.9"
  }
 },
 "nbformat": 4,
 "nbformat_minor": 2
}
