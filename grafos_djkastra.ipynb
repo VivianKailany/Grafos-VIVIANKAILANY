{
 "cells": [
  {
   "cell_type": "code",
   "execution_count": 1,
   "metadata": {},
   "outputs": [],
   "source": [
    "import heapq"
   ]
  },
  {
   "cell_type": "code",
   "execution_count": 2,
   "metadata": {},
   "outputs": [],
   "source": [
    "\n",
    "def dijkstra(grafo, inicio):\n",
    "    distancias = {no: float('inf') for no in grafo}  # Inicializar todas as distâncias como infinito\n",
    "    distancias[inicio] = 0  # A distância até o nó inicial é 0\n",
    "    visitados = set()\n",
    "    fila_prioridade = [(0, inicio)]  # Fila de prioridade para explorar o próximo nó com menor distância\n",
    "    sequencia_visita = []  # Para armazenar a ordem de visita dos nós\n",
    "\n",
    "    while fila_prioridade:\n",
    "        distancia_atual, no_atual = heapq.heappop(fila_prioridade)\n",
    "        \n",
    "        if no_atual in visitados:\n",
    "            continue\n",
    "\n",
    "        visitados.add(no_atual)\n",
    "        sequencia_visita.append(no_atual)  # Armazenar a sequência de visita\n",
    "        \n",
    "        for vizinho, peso in grafo[no_atual]:\n",
    "            distancia = distancia_atual + peso\n",
    "            if distancia < distancias[vizinho]:  # Se encontrar uma distância menor\n",
    "                distancias[vizinho] = distancia\n",
    "                \n",
    "                heapq.heappush(fila_prioridade, (distancia, vizinho))\n",
    "\n",
    "    return distancias, sequencia_visita\n",
    "\n",
    "\n"
   ]
  },
  {
   "cell_type": "code",
   "execution_count": 3,
   "metadata": {},
   "outputs": [
    {
     "name": "stdout",
     "output_type": "stream",
     "text": [
      "Distâncias mínimas a partir de A: {'A': 0, 'B': 7, 'C': 3, 'D': 9, 'E': 5}\n",
      "Sequência de nós visitados: ['A', 'C', 'E', 'B', 'D']\n"
     ]
    }
   ],
   "source": [
    "\n",
    "# Exemplo de grafo representado por um dicionário\n",
    "grafo = {\n",
    "    'A': [('B', 10), ('C', 3)],\n",
    "    'B': [('C', 1), ('D', 2)],\n",
    "    'C': [('B', 4), ('D', 8), ('E', 2)],\n",
    "    'D': [('E', 7)],\n",
    "    'E': [('D', 9)],\n",
    "}\n",
    "\n",
    "# Executar o algoritmo de Dijkstra\n",
    "inicio = 'A'\n",
    "distancias, sequencia_visita = dijkstra(grafo, inicio)\n",
    "\n",
    "# Mostrar as distâncias mínimas a partir do nó inicial\n",
    "print(f\"Distâncias mínimas a partir de {inicio}: {distancias}\")\n",
    "\n",
    "# Mostrar a sequência de nós visitados\n",
    "print(f\"Sequência de nós visitados: {sequencia_visita}\")\n"
   ]
  },
  {
   "cell_type": "code",
   "execution_count": 4,
   "metadata": {},
   "outputs": [
    {
     "name": "stdout",
     "output_type": "stream",
     "text": [
      "Distâncias mínimas a partir de S: {'S': 0, 'A': 5, 'B': 10, 'C': 8, 'D': 12, 'T': 14}\n",
      "Sequência de nós visitados : ['S', 'A', 'C', 'B', 'D', 'T']\n"
     ]
    }
   ],
   "source": [
    "grafo = {\n",
    "    'S': [('A', 5), ('B', 10)],\n",
    "    'A': [('C', 3)],\n",
    "    'B': [('C', 1), ('D', 2)],\n",
    "    'C': [('D', 8)],\n",
    "    'D': [('T', 2)],\n",
    "    'T': []\n",
    "}\n",
    "\n",
    "# Executar o algoritmo de Dijkstra\n",
    "inicio = 'S'\n",
    "distancias, sequencia_visita = dijkstra(grafo, inicio)\n",
    "\n",
    "# Mostrar as distâncias mínimas a partir do nó inicial\n",
    "print(f\"Distâncias mínimas a partir de {inicio}: {distancias}\")\n",
    "\n",
    "# Mostrar a sequência de nós visitados\n",
    "print(f\"Sequência de nós visitados : {sequencia_visita}\")\n"
   ]
  }
 ],
 "metadata": {
  "kernelspec": {
   "display_name": "Python 3",
   "language": "python",
   "name": "python3"
  },
  "language_info": {
   "codemirror_mode": {
    "name": "ipython",
    "version": 3
   },
   "file_extension": ".py",
   "mimetype": "text/x-python",
   "name": "python",
   "nbconvert_exporter": "python",
   "pygments_lexer": "ipython3",
   "version": "3.11.9"
  }
 },
 "nbformat": 4,
 "nbformat_minor": 2
}
